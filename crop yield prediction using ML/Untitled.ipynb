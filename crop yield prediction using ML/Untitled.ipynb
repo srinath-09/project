{
 "cells": [
  {
   "cell_type": "code",
   "execution_count": null,
   "id": "fbff71e6",
   "metadata": {},
   "outputs": [],
   "source": [
    "import pandas as pd"
   ]
  },
  {
   "cell_type": "code",
   "execution_count": null,
   "id": "45b7ba1a",
   "metadata": {},
   "outputs": [],
   "source": [
    "df=pd.read_excel('C:/Users\\srinath goud\\Crop-Yield-Prediction-using-ML-master')\n",
    "print(df)"
   ]
  },
  {
   "cell_type": "code",
   "execution_count": null,
   "id": "9bcd0bdc",
   "metadata": {},
   "outputs": [],
   "source": []
  },
  {
   "cell_type": "code",
   "execution_count": null,
   "id": "48527106",
   "metadata": {},
   "outputs": [],
   "source": []
  }
 ],
 "metadata": {
  "kernelspec": {
   "display_name": "Python 3",
   "language": "python",
   "name": "python3"
  }
 },
 "nbformat": 4,
 "nbformat_minor": 5
}
